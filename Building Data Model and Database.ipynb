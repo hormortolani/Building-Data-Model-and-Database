{
 "cells": [
  {
   "cell_type": "markdown",
   "id": "07117524-9f06-44fe-88a3-0405f56e90d9",
   "metadata": {},
   "source": [
    "### Creating a Table with postgreSQL"
   ]
  },
  {
   "cell_type": "code",
   "execution_count": 40,
   "id": "230cad8f-0dd6-4577-8d95-0b7dcc1e65d2",
   "metadata": {},
   "outputs": [],
   "source": [
    "import psycopg2\n",
    "import pandas as pd\n",
    "from IPython.display import display"
   ]
  },
  {
   "cell_type": "markdown",
   "id": "236aea53-27fd-443c-a2cf-5cdbd813967e",
   "metadata": {},
   "source": [
    "### Create a Conection to the Database"
   ]
  },
  {
   "cell_type": "code",
   "execution_count": 30,
   "id": "b3bc1d91-c3f6-432b-a872-8b4daa9d6cdd",
   "metadata": {},
   "outputs": [
    {
     "name": "stdin",
     "output_type": "stream",
     "text": [
      "Enter your password:  ········\n"
     ]
    },
    {
     "name": "stdout",
     "output_type": "stream",
     "text": [
      "Connection to PostgreSQL database successful!\n"
     ]
    }
   ],
   "source": [
    "try:\n",
    "    password = getpass.getpass(prompt=\"Enter your password: \")\n",
    "    conn = psycopg2.connect(\"host=127.0.0.1 dbname=postgres user=postgres password=\" + password)\n",
    "    print(\"Connection to PostgreSQL database successful!\")\n",
    "except psycopg2.Error as e:\n",
    "    print(\"Error: Could not make connection to the PostgreSQL database\")\n",
    "    print(e)\n"
   ]
  },
  {
   "cell_type": "markdown",
   "id": "78e3daa7-49ce-4bae-b156-28242dff2e88",
   "metadata": {},
   "source": [
    "### Use the Connection to get a cursor that can be used to Execute Queries"
   ]
  },
  {
   "cell_type": "code",
   "execution_count": 31,
   "id": "5ebdd115-4f39-45ac-8e1b-0069ae6c50d0",
   "metadata": {},
   "outputs": [],
   "source": [
    "try:\n",
    "    cur = conn.cursor()\n",
    "except psycopgs. Error as e:\n",
    "    print(\"Error: could ot get cursor to the database\")\n",
    "    print(e)"
   ]
  },
  {
   "cell_type": "markdown",
   "id": "7ae371d0-f936-4743-ba98-a51db4d2a809",
   "metadata": {},
   "source": [
    "### set automatic commit to be true sothat each action is committed without having to call conn.commit() after each command"
   ]
  },
  {
   "cell_type": "code",
   "execution_count": 32,
   "id": "acce7787-65a9-482f-ae17-58c36c96727b",
   "metadata": {},
   "outputs": [],
   "source": [
    "conn.set_session(autocommit=True)"
   ]
  },
  {
   "cell_type": "markdown",
   "id": "b030e70c-db77-433c-ba84-4752dd230d33",
   "metadata": {},
   "source": [
    "### Create a database"
   ]
  },
  {
   "cell_type": "code",
   "execution_count": 33,
   "id": "3af867f2-fcb4-482f-90ca-5b381996efd2",
   "metadata": {},
   "outputs": [
    {
     "name": "stdout",
     "output_type": "stream",
     "text": [
      "database \"myfirstdb\" already exists\n",
      "\n"
     ]
    }
   ],
   "source": [
    "try:\n",
    "    cur.execute(\"CREATE DATABASE MyFirstDB\")\n",
    "except psycopg2.Error as e:\n",
    "    print(e)"
   ]
  },
  {
   "cell_type": "markdown",
   "id": "e70a2d94-db82-4e41-9577-35954820d972",
   "metadata": {},
   "source": [
    "### Add the database name in the connect statement. Let close our connection to the default database, reconnect to the udacity database, and get a new cursor"
   ]
  },
  {
   "cell_type": "raw",
   "id": "e8620f2b-fe6c-431c-8924-f448df106239",
   "metadata": {},
   "source": [
    "try:\n",
    "    conn.close()\n",
    "except psycopg2.Error as e:\n",
    "    print (e)\n",
    "\n",
    "\n",
    "try:\n",
    "    password = getpass.getpass(prompt=\"Enter your password: \")\n",
    "    conn = psycopg2.connect(\"host=127.0.0.1 dbname=MyFirstDB user=postgres password=\" + password)\n",
    "    print(\"Connection to PostgreSQL database successful!\")\n",
    "except psycopg2.Error as e:\n",
    "    print(\"Error: Could not make connection to the PostgreSQL database\")\n",
    "    print(e)\n",
    "\n",
    "try:\n",
    "    cur = conn.cursor()\n",
    "except psycopg2.Error as e:\n",
    "    print(\"Error: Could not get cursor to the database\")\n",
    "    print(e)\n",
    "\n",
    "conn.set_session(autocommit=True)"
   ]
  },
  {
   "cell_type": "code",
   "execution_count": 34,
   "id": "d0772d1e-b6d3-4155-83ea-e233c6cdf4c7",
   "metadata": {},
   "outputs": [
    {
     "name": "stdout",
     "output_type": "stream",
     "text": [
      "Error: Issue creating table\n",
      "relation \"student\" already exists\n",
      "\n"
     ]
    }
   ],
   "source": [
    "try:\n",
    "    cur.execute(\"CREATE TABLE supercomputerpowerflops new (student_id int, name varchar, age int, gender varchar, subject varchar, marks int);\")\n",
    "except psycopg2.Error as e:\n",
    "    print(\"Error: Issue creating table\")\n",
    "    print(e)"
   ]
  },
  {
   "cell_type": "markdown",
   "id": "ab028e66-d1ab-4f5e-b29c-b3b680516a73",
   "metadata": {},
   "source": [
    "### Insert 5 values into the Student table\n"
   ]
  },
  {
   "cell_type": "code",
   "execution_count": 36,
   "id": "529718a1-846d-41b5-932f-ae953aa8631c",
   "metadata": {},
   "outputs": [
    {
     "name": "stdout",
     "output_type": "stream",
     "text": [
      "5 values inserted successfully!\n"
     ]
    }
   ],
   "source": [
    "try:\n",
    "    # Inserting the first value\n",
    "    cur.execute(\"INSERT INTO Student (name, age, gender, subject, marks) VALUES (%s, %s, %s, %s, %s);\", ('Alice', 20, 'Female', 'Math', 85))\n",
    "    \n",
    "    # Inserting the second value\n",
    "    cur.execute(\"INSERT INTO Student (name, age, gender, subject, marks) VALUES (%s, %s, %s, %s, %s);\", ('Bob', 22, 'Male', 'Science', 78))\n",
    "    \n",
    "    # Inserting the third value\n",
    "    cur.execute(\"INSERT INTO Student (name, age, gender, subject, marks) VALUES (%s, %s, %s, %s, %s);\", ('Charlie', 21, 'Male', 'English', 90))\n",
    "    \n",
    "    # Inserting the fourth value\n",
    "    cur.execute(\"INSERT INTO Student (name, age, gender, subject, marks) VALUES (%s, %s, %s, %s, %s);\", ('Diana', 19, 'Female', 'History', 92))\n",
    "    \n",
    "    # Inserting the fifth value\n",
    "    cur.execute(\"INSERT INTO Student (name, age, gender, subject, marks) VALUES (%s, %s, %s, %s, %s);\", ('Eva', 23, 'Female', 'Geography', 88))\n",
    "\n",
    "    print(\"5 values inserted successfully!\")\n",
    "except psycopg2.Error as e:\n",
    "    print(\"Error: Issue inserting values into the Student table\")\n",
    "    print(e)\n"
   ]
  },
  {
   "cell_type": "markdown",
   "id": "dd517245-b604-4c9f-ab69-d8973fa0dd9f",
   "metadata": {},
   "source": [
    "### validate your data was inserted into the table"
   ]
  },
  {
   "cell_type": "code",
   "execution_count": 43,
   "id": "0433c450-cb51-4cab-85e3-9c820e1b2937",
   "metadata": {},
   "outputs": [
    {
     "name": "stdout",
     "output_type": "stream",
     "text": [
      "Table updated successfully!\n"
     ]
    }
   ],
   "source": [
    "try:\n",
    "    cur.execute(\"\"\"\n",
    "        UPDATE Student \n",
    "        SET student_id = %s \n",
    "        WHERE name = %s AND age = %s AND gender = %s AND subject = %s AND marks = %s;\n",
    "        \"\"\",\n",
    "        (0, 'Alice', 20, 'Female', 'Math', 85)\n",
    "    )\n",
    "\n",
    "    cur.execute(\"\"\"\n",
    "        UPDATE Student \n",
    "        SET student_id = %s \n",
    "        WHERE name = %s AND age = %s AND gender = %s AND subject = %s AND marks = %s;\n",
    "        \"\"\",\n",
    "        (1, 'Bob', 22, 'Male', 'Science', 78)\n",
    "    )\n",
    "\n",
    "    cur.execute(\"\"\"\n",
    "        UPDATE Student \n",
    "        SET student_id = %s \n",
    "        WHERE name = %s AND age = %s AND gender = %s AND subject = %s AND marks = %s;\n",
    "        \"\"\",\n",
    "        (2, 'Charlie', 21, 'Male', 'English', 90)\n",
    "    )\n",
    "\n",
    "    cur.execute(\"\"\"\n",
    "        UPDATE Student \n",
    "        SET student_id = %s \n",
    "        WHERE name = %s AND age = %s AND gender = %s AND subject = %s AND marks = %s;\n",
    "        \"\"\",\n",
    "        (3, 'Diana', 19, 'Female', 'History', 92)\n",
    "    )\n",
    "\n",
    "    cur.execute(\"\"\"\n",
    "        UPDATE Student \n",
    "        SET student_id = %s \n",
    "        WHERE name = %s AND age = %s AND gender = %s AND subject = %s AND marks = %s;\n",
    "        \"\"\",\n",
    "        (4, 'Eva', 23, 'Female', 'Geography', 88)\n",
    "    )\n",
    "\n",
    "    print(\"Table updated successfully!\")\n",
    "except psycopg2.Error as e:\n",
    "    print(\"Error: Issue updating the Student table\")\n",
    "    print(e)\n"
   ]
  },
  {
   "cell_type": "code",
   "execution_count": 46,
   "id": "d89b8c86-3021-430a-9fbc-78bb333c0a90",
   "metadata": {},
   "outputs": [
    {
     "data": {
      "text/html": [
       "<div>\n",
       "<style scoped>\n",
       "    .dataframe tbody tr th:only-of-type {\n",
       "        vertical-align: middle;\n",
       "    }\n",
       "\n",
       "    .dataframe tbody tr th {\n",
       "        vertical-align: top;\n",
       "    }\n",
       "\n",
       "    .dataframe thead th {\n",
       "        text-align: right;\n",
       "    }\n",
       "</style>\n",
       "<table border=\"1\" class=\"dataframe\">\n",
       "  <thead>\n",
       "    <tr style=\"text-align: right;\">\n",
       "      <th></th>\n",
       "      <th>student_id</th>\n",
       "      <th>name</th>\n",
       "      <th>age</th>\n",
       "      <th>gender</th>\n",
       "      <th>subject</th>\n",
       "      <th>marks</th>\n",
       "    </tr>\n",
       "  </thead>\n",
       "  <tbody>\n",
       "    <tr>\n",
       "      <th>0</th>\n",
       "      <td>0</td>\n",
       "      <td>Alice</td>\n",
       "      <td>20</td>\n",
       "      <td>Female</td>\n",
       "      <td>Math</td>\n",
       "      <td>85</td>\n",
       "    </tr>\n",
       "    <tr>\n",
       "      <th>1</th>\n",
       "      <td>1</td>\n",
       "      <td>Bob</td>\n",
       "      <td>22</td>\n",
       "      <td>Male</td>\n",
       "      <td>Science</td>\n",
       "      <td>78</td>\n",
       "    </tr>\n",
       "    <tr>\n",
       "      <th>2</th>\n",
       "      <td>2</td>\n",
       "      <td>Charlie</td>\n",
       "      <td>21</td>\n",
       "      <td>Male</td>\n",
       "      <td>English</td>\n",
       "      <td>90</td>\n",
       "    </tr>\n",
       "    <tr>\n",
       "      <th>3</th>\n",
       "      <td>3</td>\n",
       "      <td>Diana</td>\n",
       "      <td>19</td>\n",
       "      <td>Female</td>\n",
       "      <td>History</td>\n",
       "      <td>92</td>\n",
       "    </tr>\n",
       "    <tr>\n",
       "      <th>4</th>\n",
       "      <td>4</td>\n",
       "      <td>Eva</td>\n",
       "      <td>23</td>\n",
       "      <td>Female</td>\n",
       "      <td>Geography</td>\n",
       "      <td>88</td>\n",
       "    </tr>\n",
       "  </tbody>\n",
       "</table>\n",
       "</div>"
      ],
      "text/plain": [
       "   student_id     name  age  gender    subject  marks\n",
       "0           0    Alice   20  Female       Math     85\n",
       "1           1      Bob   22    Male    Science     78\n",
       "2           2  Charlie   21    Male    English     90\n",
       "3           3    Diana   19  Female    History     92\n",
       "4           4      Eva   23  Female  Geography     88"
      ]
     },
     "metadata": {},
     "output_type": "display_data"
    }
   ],
   "source": [
    "try:\n",
    "    \n",
    "    cur.execute(\"SELECT * FROM Student;\")\n",
    "    \n",
    "    rows = cur.fetchall()\n",
    "\n",
    "    df = pd.DataFrame(rows, columns=['student_id', 'name', 'age', 'gender', 'subject', 'marks'])\n",
    "\n",
    "    display(df)\n",
    "\n",
    "except psycopg2.Error as e:\n",
    "    print(\"Error: Issue fetching data from the Student table\")\n",
    "    print(e)\n"
   ]
  },
  {
   "cell_type": "markdown",
   "id": "2b294c79-8975-4c95-a669-50842af60cb7",
   "metadata": {},
   "source": [
    "### Close the cursor and connection"
   ]
  },
  {
   "cell_type": "code",
   "execution_count": 47,
   "id": "259e7631-0516-4a70-88a1-6ec952f675b8",
   "metadata": {},
   "outputs": [],
   "source": [
    "cur.close()\n",
    "conn.close()"
   ]
  }
 ],
 "metadata": {
  "kernelspec": {
   "display_name": "Python 3 (ipykernel)",
   "language": "python",
   "name": "python3"
  },
  "language_info": {
   "codemirror_mode": {
    "name": "ipython",
    "version": 3
   },
   "file_extension": ".py",
   "mimetype": "text/x-python",
   "name": "python",
   "nbconvert_exporter": "python",
   "pygments_lexer": "ipython3",
   "version": "3.12.0"
  }
 },
 "nbformat": 4,
 "nbformat_minor": 5
}
